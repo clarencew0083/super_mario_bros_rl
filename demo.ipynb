{
 "cells": [
  {
   "cell_type": "code",
   "execution_count": 4,
   "id": "2870164a",
   "metadata": {},
   "outputs": [],
   "source": [
    "import gym_super_mario_bros\n",
    "from gym_super_mario_bros.actions import RIGHT_ONLY\n",
    "\n",
    "import gym_compatibility_wrapper\n",
    "from nes_py.wrappers import JoypadSpace\n",
    "import wrapper\n",
    "from gym.wrappers import GrayScaleObservation, ResizeObservation, FrameStack\n",
    "from gym_super_mario_bros.actions import RIGHT_ONLY\n",
    "\n",
    "import agent\n",
    "import utility"
   ]
  },
  {
   "cell_type": "code",
   "execution_count": null,
   "id": "03973860",
   "metadata": {},
   "outputs": [
    {
     "name": "stderr",
     "output_type": "stream",
     "text": [
      "/Users/clarencewilliams/Developer/reinforcement_learning/super_mario_bros_rl/.venv/lib/python3.10/site-packages/gym/envs/registration.py:555: UserWarning: \u001b[33mWARN: The environment SuperMarioBros-1-1-v0 is out of date. You should consider upgrading to version `v3`.\u001b[0m\n",
      "  logger.warn(\n",
      "/Users/clarencewilliams/Developer/reinforcement_learning/super_mario_bros_rl/.venv/lib/python3.10/site-packages/gym/envs/registration.py:627: UserWarning: \u001b[33mWARN: The environment creator metadata doesn't include `render_modes`, contains: ['render.modes', 'video.frames_per_second']\u001b[0m\n",
      "  logger.warn(\n"
     ]
    },
    {
     "name": "stdout",
     "output_type": "stream",
     "text": [
      "Episode: 0, Avg Score: 139.000, Epsilon: 1.000\n",
      "New best model saved at episode 0 with avg score 139.000\n",
      "Episode: 1, Avg Score: 139.000, Epsilon: 1.000\n"
     ]
    }
   ],
   "source": [
    "raw_env = gym_super_mario_bros.make('SuperMarioBros-1-1-v0', render_mode='rgb_array', apply_api_compatibility=True)\n",
    "\n",
    "# Wrap the raw gym environment in our Gymnasium-compatible wrapper.\n",
    "env = gym_compatibility_wrapper.GymCompatibilityWrapper(raw_env)\n",
    "env = JoypadSpace(env, RIGHT_ONLY)\n",
    "env = wrapper.MaxAndSkipEnv(env)\n",
    "env = ResizeObservation(env, shape=84) # Resize frame from 240x256 to 84x84\n",
    "env = GrayScaleObservation(env)\n",
    "env = FrameStack(env, num_stack=4, lz4_compress=True) # Stack 4 frames\n",
    "\n",
    "# adjust number of episodes as desired\n",
    "\n",
    "episodes = 2\n",
    "batch_size = 64 # Set a batch size\n",
    "scores = []\n",
    "eps_history = []\n",
    "\n",
    "agent = agent.Agent(input_dims=env.observation_space.shape,\n",
    "            n_actions=env.action_space.n, lr=5e-5)\n",
    "\n",
    "\n",
    "utility.run_episode(episodes, env, agent, scores,  eps_history, batch_size)"
   ]
  },
  {
   "cell_type": "code",
   "execution_count": null,
   "id": "9f72b565",
   "metadata": {},
   "outputs": [],
   "source": []
  }
 ],
 "metadata": {
  "kernelspec": {
   "display_name": ".venv",
   "language": "python",
   "name": "python3"
  },
  "language_info": {
   "codemirror_mode": {
    "name": "ipython",
    "version": 3
   },
   "file_extension": ".py",
   "mimetype": "text/x-python",
   "name": "python",
   "nbconvert_exporter": "python",
   "pygments_lexer": "ipython3",
   "version": "3.10.12"
  }
 },
 "nbformat": 4,
 "nbformat_minor": 5
}
